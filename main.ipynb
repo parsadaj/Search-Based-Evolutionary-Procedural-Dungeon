{
 "cells": [
  {
   "cell_type": "code",
   "execution_count": 2,
   "metadata": {},
   "outputs": [],
   "source": [
    "import numpy as np\n",
    "import matplotlib.pyplot as plt\n",
    "from scipy.ndimage import binary_closing, binary_opening\n"
   ]
  },
  {
   "cell_type": "code",
   "execution_count": 3,
   "metadata": {},
   "outputs": [
    {
     "name": "stdout",
     "output_type": "stream",
     "text": [
      "(5, 20, 20)\n"
     ]
    }
   ],
   "source": [
    "\n",
    "\n",
    "def generate_random_samples(n, rows=20, cols=20):\n",
    "    \"\"\"\n",
    "    Generate n random dungeon layouts.\n",
    "\n",
    "    Parameters:\n",
    "    - n: Number of samples to generate\n",
    "    - rows: Number of rows in the dungeon grid (default is 20)\n",
    "    - cols: Number of columns in the dungeon grid (default is 20)\n",
    "\n",
    "    Returns:\n",
    "    - A NumPy array of size (n, rows, cols) representing random dungeon layouts.\n",
    "    \"\"\"\n",
    "    samples = np.random.choice([0, 1], size=(n, rows, cols))\n",
    "    return samples\n",
    "\n",
    "# Example usage:\n",
    "num_samples = 5\n",
    "random_dungeons = generate_random_samples(num_samples)\n",
    "print(random_dungeons.shape)  # Output: (5, 20, 20)\n",
    "\n",
    "sample_dungeon = random_dungeons[0]\n"
   ]
  },
  {
   "cell_type": "code",
   "execution_count": 4,
   "metadata": {},
   "outputs": [
    {
     "name": "stdout",
     "output_type": "stream",
     "text": [
      "Sample 1:\n",
      "# # # . . # # . . # . # . # . # . # . .\n",
      "# # # . # # # . # # . # . . # # . . # .\n",
      ". . # # . . # . . # . . . . # . # # # #\n",
      "# # . # . # # . # # # . . # . . # # . .\n",
      "# # # . . # # # # # . . . . . # # . . .\n",
      "# # # . . # . # . # . # . # # # # . . .\n",
      "# . . . # . # . . # # # . # . . . . # #\n",
      ". # . . . . # # # # . # . # . . . . . #\n",
      "# . # . # # . # . . # # # # # . . # # #\n",
      ". . . # # . # . . # # # . . . # . . . .\n",
      "# # # . . . . . # # . . # # # . . . # #\n",
      ". . . . # . # . . . # # # # . . # # . .\n",
      "# # # # . . . # . # # . # # . # # . # .\n",
      ". # # # # . # . # # # # # . . . . # # #\n",
      ". . # . . # # # . . # # . # # . . . . .\n",
      "# . # # # # # # # # . . # . # . . . # #\n",
      "# . # . . # # . . . # . # . . # # . # #\n",
      "# . # . # # # # . # # . # # . # . # # #\n",
      ". . . . # . . # # . . # . # . . . . # .\n",
      ". # . # . . # . # . # # . # # # # # . .\n",
      "\n"
     ]
    }
   ],
   "source": [
    "def print_dungeon(dungeon):\n",
    "    \"\"\"\n",
    "    Convert the dungeon layout to a string representation.\n",
    "\n",
    "    Parameters:\n",
    "    - dungeon: NumPy array representing the dungeon layout.\n",
    "\n",
    "    Returns:\n",
    "    - A string representation of the dungeon layout with '#' for walls and '.' for empty spaces.\n",
    "    \"\"\"\n",
    "    dungeon_str = '\\n'.join([' '.join(['#' if cell == 1 else '.' for cell in row]) for row in dungeon])\n",
    "    return dungeon_str\n",
    "\n",
    "# Example usage:\n",
    "for idx, dungeon in enumerate(random_dungeons):\n",
    "    print(f\"Sample {idx + 1}:\\n{print_dungeon(dungeon)}\\n\")\n",
    "    break\n"
   ]
  },
  {
   "cell_type": "code",
   "execution_count": 5,
   "metadata": {},
   "outputs": [
    {
     "data": {
      "image/png": "[encoded data removed]",
      "text/plain": [
       "<Figure size 432x288 with 1 Axes>"
      ]
     },
     "metadata": {},
     "output_type": "display_data"
    }
   ],
   "source": [
    "def plot_dungeon(dungeon):\n",
    "    \"\"\"\n",
    "    Plot the dungeon using Matplotlib without axis labels.\n",
    "    \n",
    "    Parameters:\n",
    "    - dungeon: NumPy array representing the dungeon layout.\n",
    "    \"\"\"\n",
    "    fig, ax = plt.subplots()\n",
    "    ax.imshow(dungeon, cmap='Greys')\n",
    "    ax.set_xticks([])\n",
    "    ax.set_yticks([])\n",
    "    # ax.axis('off')  # Turn off axis labels\n",
    "    \n",
    "    for spine in ax.spines.values():\n",
    "        spine.set_edgecolor('white')\n",
    "        spine.set_linewidth(2)\n",
    " \n",
    "plot_dungeon(sample_dungeon)"
   ]
  },
  {
   "cell_type": "code",
   "execution_count": 6,
   "metadata": {},
   "outputs": [
    {
     "data": {
      "image/png": "[encoded data removed]",
      "text/plain": [
       "<Figure size 432x288 with 1 Axes>"
      ]
     },
     "metadata": {},
     "output_type": "display_data"
    }
   ],
   "source": [
    "def apply_mutation1(dungeon, stride=1, window_size=2):\n",
    "    \"\"\"\n",
    "    Apply mutation operation 1 to the dungeon array using a 2 by 2 convolutional operator.\n",
    "    mutation operation 1 frees some space from the random noise.\n",
    "\n",
    "    Parameters:\n",
    "    - dungeon: NumPy array representing the original dungeon layout.\n",
    "\n",
    "    Returns:\n",
    "    - Updated NumPy array representing the modified dungeon layout.\n",
    "    \"\"\"\n",
    "    updated_dungeon = np.zeros_like(dungeon)\n",
    "\n",
    "    for i in range(0, dungeon.shape[0], stride):\n",
    "        for j in range(0, dungeon.shape[1], stride):\n",
    "            window_sum = np.sum(dungeon[i:i+window_size, j:j+window_size])\n",
    "\n",
    "            # if only there is one wall there, remove it\n",
    "            if window_sum == 1:\n",
    "                updated_dungeon[i:i+window_size, j:j+window_size] = 0\n",
    "            else:\n",
    "                updated_dungeon[i:i+window_size, j:j+window_size] = dungeon[i:i+window_size, j:j+window_size]\n",
    "\n",
    "    return updated_dungeon\n",
    "\n",
    "\n",
    "# Apply mutation1 to the first dungeon layout\n",
    "mutated1_dungeon = apply_mutation1(sample_dungeon)\n",
    "plot_dungeon(mutated1_dungeon)\n"
   ]
  },
  {
   "cell_type": "code",
   "execution_count": 7,
   "metadata": {},
   "outputs": [
    {
     "data": {
      "image/png": "[encoded data removed]",
      "text/plain": [
       "<Figure size 432x288 with 1 Axes>"
      ]
     },
     "metadata": {},
     "output_type": "display_data"
    }
   ],
   "source": [
    "def apply_mutation2(dungeon, stride=3, window_size=5):\n",
    "    \"\"\"\n",
    "    Apply mutation operation 2 to the dungeon array using a 6 by 6 convolutional operator.\n",
    "    mutation operation 2 creates walls betweem large free spaces.\n",
    "\n",
    "    Parameters:\n",
    "    - dungeon: NumPy array representing the original dungeon layout.\n",
    "\n",
    "    Returns:\n",
    "    - Updated NumPy array representing the modified dungeon layout.\n",
    "    \"\"\"\n",
    "    updated_dungeon = dungeon.copy()\n",
    "\n",
    "    for i in range(0, dungeon.shape[0], stride):\n",
    "        for j in range(0, dungeon.shape[1], stride):\n",
    "            window_sum = np.sum(dungeon[i:i+window_size, j:j+window_size])\n",
    "\n",
    "            # if its a big free space, randomply put walls on one of its sides\n",
    "            if window_sum == 0:\n",
    "             # Randomly choose one side (top, bottom, left, right)\n",
    "                side = np.random.choice(['top', 'bottom', 'left', 'right'])\n",
    "\n",
    "                if side == 'top' and i - 1 >= 0:\n",
    "                    updated_dungeon[i-1:i+1, j:j+window_size] = 1\n",
    "                elif side == 'bottom' and i + window_size < dungeon.shape[0]:\n",
    "                    updated_dungeon[i+window_size-1:i+window_size+1, j:j+window_size] = 1\n",
    "                elif side == 'left' and j - 1 >= 0:\n",
    "                    updated_dungeon[i:i+window_size, j-1:j+1] = 1\n",
    "                elif side == 'right' and j + window_size < dungeon.shape[1]:\n",
    "                    updated_dungeon[i:i+window_size, j+window_size-1:j+window_size+1] = 1\n",
    "                \n",
    "    return updated_dungeon\n",
    "\n",
    "mutated2_dungeon = apply_mutation2(apply_mutation1(apply_mutation1(mutated1_dungeon)))\n",
    "plot_dungeon(mutated2_dungeon)"
   ]
  },
  {
   "cell_type": "code",
   "execution_count": 8,
   "metadata": {},
   "outputs": [
    {
     "data": {
      "image/png": "[encoded data removed]",
      "text/plain": [
       "<Figure size 432x288 with 1 Axes>"
      ]
     },
     "metadata": {},
     "output_type": "display_data"
    }
   ],
   "source": [
    "def apply_mutation3(dungeon, closing_size=2, opening_size=2):\n",
    "    \"\"\"\n",
    "    Apply mutation operation 3 to the dungeon array using morphological closing and opening.\n",
    "\n",
    "    Parameters:\n",
    "    - dungeon: NumPy array representing the original dungeon layout.\n",
    "    - closing_size: Size of the closing kernel (default is 3).\n",
    "    - opening_size: Size of the opening kernel (default is 3).\n",
    "\n",
    "    Returns:\n",
    "    - Updated NumPy array representing the modified dungeon layout.\n",
    "    \"\"\"\n",
    "    updated_dungeon = dungeon.copy()\n",
    "    updated_dungeon = binary_closing(updated_dungeon, structure=np.ones((closing_size, closing_size)))\n",
    "    updated_dungeon = binary_opening(updated_dungeon, structure=np.ones((opening_size, opening_size)))\n",
    "\n",
    "    return updated_dungeon\n",
    "\n",
    "mutated3_dungeon = apply_mutation3(mutated2_dungeon)\n",
    "plot_dungeon(mutated3_dungeon)"
   ]
  },
  {
   "cell_type": "code",
   "execution_count": 9,
   "metadata": {},
   "outputs": [
    {
     "data": {
      "image/png": "[encoded data removed]",
      "text/plain": [
       "<Figure size 432x288 with 1 Axes>"
      ]
     },
     "metadata": {},
     "output_type": "display_data"
    }
   ],
   "source": [
    "def update_dungeon(dungeon):\n",
    "    \"\"\"\n",
    "    Update the dungeon array using mutation operations 1 and 2.\n",
    "\n",
    "    Parameters:\n",
    "    - dungeon: NumPy array representing the original dungeon layout.\n",
    "\n",
    "    Returns:\n",
    "    - Updated NumPy array representing the modified dungeon layout.\n",
    "    \"\"\"\n",
    "    updated_dungeon = np.copy(dungeon)\n",
    "\n",
    "    # Perform mutation 1 randomly 1 or 2 times\n",
    "    mutation1_iterations = np.random.choice([1, 2])\n",
    "    for _ in range(mutation1_iterations):\n",
    "        updated_dungeon = apply_mutation1(updated_dungeon)\n",
    "\n",
    "    # Perform mutation 2 once\n",
    "    updated_dungeon = apply_mutation2(updated_dungeon)\n",
    "    \n",
    "    # Perform mutation 3 once\n",
    "    # updated_dungeon = apply_mutation3(updated_dungeon)\n",
    "\n",
    "    return updated_dungeon\n",
    "\n",
    "\n",
    "# Update the first dungeon layout\n",
    "updated_dungeon = update_dungeon(sample_dungeon)\n",
    "plot_dungeon(updated_dungeon)\n"
   ]
  },
  {
   "cell_type": "code",
   "execution_count": 10,
   "metadata": {},
   "outputs": [],
   "source": [
    "# dungeon = generate_random_samples(1)[0]\n",
    "# for i in range(50):\n",
    "#     if i % 5 == 0:\n",
    "#         print(\"Iteration: {}\". format(i+1))\n",
    "#         print(print_dungeon(dungeon))\n",
    "#         print(\"-\"*25)\n",
    "#         print()\n",
    "        \n",
    "#     dungeon = update_dungeon(dungeon)\n",
    "# plot_dungeon(apply_mutation3(dungeon))"
   ]
  },
  {
   "cell_type": "code",
   "execution_count": 49,
   "metadata": {},
   "outputs": [
    {
     "data": {
      "image/png": "[encoded data removed]",
      "text/plain": [
       "<Figure size 432x288 with 1 Axes>"
      ]
     },
     "metadata": {},
     "output_type": "display_data"
    }
   ],
   "source": [
    "def mutate(dungeon):\n",
    "    \"\"\"\n",
    "    Randomly apply one of the three mutation operations to the dungeon array.\n",
    "\n",
    "    Parameters:\n",
    "    - dungeon: NumPy array representing the original dungeon layout.\n",
    "\n",
    "    Returns:\n",
    "    - Updated NumPy array representing the modified dungeon layout.\n",
    "    \"\"\"\n",
    "    mutation_type = np.random.choice([1, 2, 3])\n",
    "\n",
    "    if mutation_type == 1:\n",
    "        return apply_mutation1(dungeon)\n",
    "    elif mutation_type == 2:\n",
    "        return apply_mutation2(dungeon)\n",
    "    elif mutation_type == 3:\n",
    "        return apply_mutation3(dungeon)\n",
    "\n",
    "# Mutate the first dungeon layout\n",
    "mutated_dungeon = mutate(sample_dungeon)\n",
    "plot_dungeon(mutated_dungeon)"
   ]
  },
  {
   "cell_type": "code",
   "execution_count": 61,
   "metadata": {},
   "outputs": [
    {
     "data": {
      "text/plain": [
       "(18, 9, 1, 0, 0, ' = ', 28)"
      ]
     },
     "execution_count": 61,
     "metadata": {},
     "output_type": "execute_result"
    },
    {
     "data": {
      "image/png": "[encoded data removed]",
      "text/plain": [
       "<Figure size 432x288 with 1 Axes>"
      ]
     },
     "metadata": {},
     "output_type": "display_data"
    }
   ],
   "source": [
    "def mother_evaluation_function_old(dungeon, score_modifier, window_size, desired_sum):\n",
    "    \"\"\"\n",
    "    Evaluate the dungeon array based on the described criteria.\n",
    "\n",
    "    Parameters:\n",
    "    - dungeon: NumPy array representing the dungeon layout.\n",
    "    - score_modifier: The value to be added to the score when encountering a window of the desired sum.\n",
    "    - window_size: Size of the convolution window.\n",
    "    - desired_sum: The desired sum for the convolution window.\n",
    "\n",
    "    Returns:\n",
    "    - Score based on the evaluation criteria.\n",
    "    \"\"\"\n",
    "    score = 0\n",
    "\n",
    "    for i in range(dungeon.shape[0] - window_size + 1):\n",
    "        for j in range(dungeon.shape[1] - window_size + 1):\n",
    "            window_sum = np.sum(dungeon[i:i+window_size, j:j+window_size])\n",
    "\n",
    "            if window_sum == desired_sum:\n",
    "                score += score_modifier\n",
    "\n",
    "    return score\n",
    "\n",
    "def mother_evaluation_function(dungeon, score_modifier, window_size, desired_sum):\n",
    "    \"\"\"\n",
    "    Evaluate the dungeon array based on the described criteria.\n",
    "\n",
    "    Parameters:\n",
    "    - dungeon: NumPy array representing the dungeon layout.\n",
    "    - score_modifier: The value to be added to the score when encountering a window of the desired sum.\n",
    "    - window_size: Size of the convolution window.\n",
    "    - desired_sum: The desired sum for the convolution window.\n",
    "\n",
    "    Returns:\n",
    "    - Score based on the evaluation criteria.\n",
    "    \"\"\"\n",
    "    # Create a rolling window view of the dungeon array\n",
    "    rolled_dungeon = np.lib.stride_tricks.sliding_window_view(dungeon, (window_size, window_size))\n",
    "\n",
    "    # Calculate the sum of each window\n",
    "    window_sums = np.sum(rolled_dungeon, axis=(2, 3))\n",
    "\n",
    "    # Count occurrences where the sum matches the desired_sum\n",
    "    matching_windows = np.count_nonzero(window_sums == desired_sum)\n",
    "\n",
    "    # Calculate the overall score\n",
    "    overall_score = matching_windows * score_modifier\n",
    "\n",
    "    return overall_score\n",
    "\n",
    "def evaluate_function1(dungeon):\n",
    "    \"\"\"\n",
    "    Evaluate the dungeon array based on the described criteria.\n",
    "\n",
    "    Parameters:\n",
    "    - dungeon: NumPy array representing the dungeon layout.\n",
    "    - desired_sum: The desired sum for the convolution window (default is 4).\n",
    "\n",
    "    Returns:\n",
    "    - Score based on the evaluation criteria.\n",
    "    \"\"\"\n",
    "    return mother_evaluation_function(dungeon, score_modifier=1, window_size=2, desired_sum=4)\n",
    "\n",
    "def evaluate_function2(dungeon):\n",
    "    \"\"\"\n",
    "    Evaluate the dungeon array based on the described criteria.\n",
    "\n",
    "    Parameters:\n",
    "    - dungeon: NumPy array representing the dungeon layout.\n",
    "\n",
    "    Returns:\n",
    "    - Score based on the evaluation criteria.\n",
    "    \"\"\"\n",
    "    return mother_evaluation_function(dungeon, score_modifier=1, window_size=3, desired_sum=0)\n",
    "\n",
    "def evaluate_function3(dungeon):\n",
    "    \"\"\"\n",
    "    Evaluate the dungeon array based on the described criteria.\n",
    "\n",
    "    Parameters:\n",
    "    - dungeon: NumPy array representing the dungeon layout.\n",
    "\n",
    "    Returns:\n",
    "    - Score based on the evaluation criteria.\n",
    "    \"\"\"\n",
    "    return mother_evaluation_function(dungeon, score_modifier=1, window_size=4, desired_sum=0)\n",
    "\n",
    "def evaluate_function4(dungeon):\n",
    "    \"\"\"\n",
    "    Evaluate the dungeon array based on the described criteria.\n",
    "\n",
    "    Parameters:\n",
    "    - dungeon: NumPy array representing the dungeon layout.\n",
    "\n",
    "    Returns:\n",
    "    - Score based on the evaluation criteria.\n",
    "    \"\"\"\n",
    "    return mother_evaluation_function(dungeon, score_modifier=-1, window_size=5, desired_sum=0)\n",
    "\n",
    "def evaluate_function5(dungeon):\n",
    "    \"\"\"\n",
    "    Evaluate the dungeon array based on the described criteria.\n",
    "\n",
    "    Parameters:\n",
    "    - dungeon: NumPy array representing the dungeon layout.\n",
    "\n",
    "    Returns:\n",
    "    - Score based on the evaluation criteria.\n",
    "    \"\"\"\n",
    "    return mother_evaluation_function(dungeon, score_modifier=-1, window_size=6, desired_sum=0)\n",
    "\n",
    "def overall_evaluation_function(dungeon):\n",
    "    \"\"\"\n",
    "    Calculate the overall score from all evaluated functions.\n",
    "\n",
    "    Parameters:\n",
    "    - dungeon: NumPy array representing the dungeon layout.\n",
    "\n",
    "    Returns:\n",
    "    - Overall score calculated from all evaluated functions.\n",
    "    \"\"\"\n",
    "    score_function1 = evaluate_function1(dungeon)\n",
    "    score_function2 = evaluate_function2(dungeon)\n",
    "    score_function3 = evaluate_function3(dungeon)\n",
    "    score_function4 = evaluate_function4(dungeon)\n",
    "    score_function5 = evaluate_function5(dungeon)\n",
    "\n",
    "    overall_score = score_function1 + score_function2 + score_function3 + score_function4 + score_function5\n",
    "\n",
    "    return overall_score\n",
    "\n",
    "\n",
    "overall_score = overall_evaluation_function(mutated_dungeon)\n",
    "\n",
    "\n",
    "\n",
    "# Evaluate the score for the first dungeon layout\n",
    "score1 = evaluate_function1(mutated_dungeon)\n",
    "score2 = evaluate_function2(mutated_dungeon)\n",
    "score3 = evaluate_function3(mutated_dungeon)\n",
    "score4 = evaluate_function4(mutated_dungeon)\n",
    "score5 = evaluate_function5(mutated_dungeon)\n",
    "plot_dungeon(mutated_dungeon)\n",
    "score1, score2, score3, score4, score5, ' = ', overall_score"
   ]
  },
  {
   "cell_type": "code",
   "execution_count": 62,
   "metadata": {},
   "outputs": [
    {
     "name": "stdout",
     "output_type": "stream",
     "text": [
      "Original version time: 1.2539600000000064 seconds\n",
      "Revised version time: 0.04008370000019568 seconds\n"
     ]
    }
   ],
   "source": [
    "import timeit\n",
    "import numpy as np\n",
    "\n",
    "# Original version with for loops\n",
    "def original_evaluation_function(dungeon, score_modifier, window_size, desired_sum):\n",
    "    score = 0\n",
    "\n",
    "    for i in range(dungeon.shape[0] - window_size + 1):\n",
    "        for j in range(dungeon.shape[1] - window_size + 1):\n",
    "            window_sum = np.sum(dungeon[i:i+window_size, j:j+window_size])\n",
    "\n",
    "            if window_sum == desired_sum:\n",
    "                score += score_modifier\n",
    "\n",
    "    return score\n",
    "\n",
    "# Revised version using NumPy array operations\n",
    "def revised_evaluation_function(dungeon, score_modifier, window_size, desired_sum):\n",
    "    rolled_dungeon = np.lib.stride_tricks.sliding_window_view(dungeon, (window_size, window_size))\n",
    "    window_sums = np.sum(rolled_dungeon, axis=(2, 3))\n",
    "    matching_windows = np.count_nonzero(window_sums == desired_sum)\n",
    "    overall_score = matching_windows * score_modifier\n",
    "\n",
    "    return overall_score\n",
    "\n",
    "# Example usage\n",
    "num_samples = 5\n",
    "random_dungeons = generate_random_samples(num_samples)\n",
    "\n",
    "# Measure execution time for the original version\n",
    "original_time = timeit.timeit(lambda: original_evaluation_function(random_dungeons[0], score_modifier=2, window_size=3, desired_sum=0), number=1000)\n",
    "\n",
    "# Measure execution time for the revised version\n",
    "revised_time = timeit.timeit(lambda: revised_evaluation_function(random_dungeons[0], score_modifier=2, window_size=3, desired_sum=0), number=1000)\n",
    "\n",
    "print(f\"Original version time: {original_time} seconds\")\n",
    "print(f\"Revised version time: {revised_time} seconds\")\n"
   ]
  },
  {
   "cell_type": "code",
   "execution_count": null,
   "metadata": {},
   "outputs": [],
   "source": []
  }
 ],
 "metadata": {
  "kernelspec": {
   "display_name": "Python 3",
   "language": "python",
   "name": "python3"
  },
  "language_info": {
   "codemirror_mode": {
    "name": "ipython",
    "version": 3
   },
   "file_extension": ".py",
   "mimetype": "text/x-python",
   "name": "python",
   "nbconvert_exporter": "python",
   "pygments_lexer": "ipython3",
   "version": "3.9.5"
  }
 },
 "nbformat": 4,
 "nbformat_minor": 2
}
