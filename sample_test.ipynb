{
 "cells": [
  {
   "cell_type": "code",
   "execution_count": 1,
   "metadata": {},
   "outputs": [],
   "source": [
    "from evalutaion import overall_evaluation\n",
    "from utils import generate_random_samples, plot_dungeon, plot_dungeons\n",
    "from mutation import apply_mutation1, apply_mutation2"
   ]
  },
  {
   "cell_type": "code",
   "execution_count": 2,
   "metadata": {},
   "outputs": [],
   "source": [
    "seed = 42"
   ]
  },
  {
   "cell_type": "markdown",
   "metadata": {},
   "source": [
    "# 1 Sample"
   ]
  },
  {
   "cell_type": "code",
   "execution_count": 3,
   "metadata": {},
   "outputs": [
    {
     "data": {
      "text/plain": [
       "(20, 20)"
      ]
     },
     "execution_count": 3,
     "metadata": {},
     "output_type": "execute_result"
    },
    {
     "data": {
      "image/png": "[encoded data removed]",
      "text/plain": [
       "<Figure size 432x288 with 1 Axes>"
      ]
     },
     "metadata": {},
     "output_type": "display_data"
    }
   ],
   "source": [
    "dungeon = generate_random_samples(4, seed=seed)[0]\n",
    "plot_dungeon(dungeon)\n",
    "dungeon.shape"
   ]
  },
  {
   "cell_type": "code",
   "execution_count": 4,
   "metadata": {},
   "outputs": [
    {
     "data": {
      "text/plain": [
       "(20, 20)"
      ]
     },
     "execution_count": 4,
     "metadata": {},
     "output_type": "execute_result"
    },
    {
     "data": {
      "image/png": "[encoded data removed]",
      "text/plain": [
       "<Figure size 432x288 with 1 Axes>"
      ]
     },
     "metadata": {},
     "output_type": "display_data"
    }
   ],
   "source": [
    "mutated1 = apply_mutation1(dungeon)\n",
    "plot_dungeon(mutated1)\n",
    "mutated1.shape\n"
   ]
  },
  {
   "cell_type": "code",
   "execution_count": 5,
   "metadata": {},
   "outputs": [
    {
     "data": {
      "text/plain": [
       "(20, 20)"
      ]
     },
     "execution_count": 5,
     "metadata": {},
     "output_type": "execute_result"
    },
    {
     "data": {
      "image/png": "[encoded data removed]",
      "text/plain": [
       "<Figure size 432x288 with 1 Axes>"
      ]
     },
     "metadata": {},
     "output_type": "display_data"
    }
   ],
   "source": [
    "mutated2 = apply_mutation2(dungeon)\n",
    "plot_dungeon(mutated2)\n",
    "mutated2.shape\n"
   ]
  },
  {
   "cell_type": "code",
   "execution_count": 6,
   "metadata": {},
   "outputs": [
    {
     "name": "stdout",
     "output_type": "stream",
     "text": [
      "[46]\n",
      "[88]\n",
      "[46]\n"
     ]
    }
   ],
   "source": [
    "for dun in [dungeon, mutated1, mutated2]:\n",
    "    print(overall_evaluation(dun))"
   ]
  },
  {
   "cell_type": "markdown",
   "metadata": {},
   "source": [
    "# n samples"
   ]
  },
  {
   "cell_type": "code",
   "execution_count": 7,
   "metadata": {},
   "outputs": [
    {
     "data": {
      "text/plain": [
       "(4, 20, 20)"
      ]
     },
     "execution_count": 7,
     "metadata": {},
     "output_type": "execute_result"
    },
    {
     "data": {
      "image/png": "[encoded data removed]",
      "text/plain": [
       "<Figure size 432x288 with 4 Axes>"
      ]
     },
     "metadata": {},
     "output_type": "display_data"
    }
   ],
   "source": [
    "n = 4\n",
    "dungeons = generate_random_samples(4, seed=seed)\n",
    "plot_dungeons(dungeons)\n",
    "dungeons.shape"
   ]
  },
  {
   "cell_type": "code",
   "execution_count": 8,
   "metadata": {},
   "outputs": [
    {
     "name": "stdout",
     "output_type": "stream",
     "text": [
      "[46 36 55 49]\n"
     ]
    }
   ],
   "source": [
    "print(overall_evaluation(dungeons))"
   ]
  },
  {
   "cell_type": "code",
   "execution_count": 9,
   "metadata": {},
   "outputs": [],
   "source": [
    "import numpy as np\n",
    "def f(x, y):\n",
    "    x = np.array(x)\n",
    "    y = np.array(y)\n",
    "    return np.sum(x*y)"
   ]
  },
  {
   "cell_type": "code",
   "execution_count": 75,
   "metadata": {},
   "outputs": [
    {
     "name": "stdout",
     "output_type": "stream",
     "text": [
      "[1, 0, 0, 0]\n",
      "[4, 1, 0, 0]\n",
      "[9, 4, 1, 0]\n",
      "[16, 9, 4, 1]\n",
      "\n",
      "[1, 2, -9, -16]\n",
      "\n",
      "1\n",
      "6\n",
      "8\n",
      "-18\n"
     ]
    }
   ],
   "source": [
    "n = 4\n",
    "\n",
    "def create_x(n):\n",
    "    xs = []\n",
    "    for i in range(2, n+2):\n",
    "        x = []\n",
    "        for j in range(2, n+2):\n",
    "            v = (i - j + 1)**2\n",
    "            if i < j:\n",
    "                v = 0\n",
    "            x.append(v)\n",
    "        print(x)\n",
    "        xs.append(x)\n",
    "    return xs\n",
    "\n",
    "xs = create_x(n)\n",
    "\n",
    "def create_y(n):\n",
    "    ys = []\n",
    "    for i in range(1, 1+n):\n",
    "        if i < n/2+1:\n",
    "            ys.append(i)\n",
    "        else:\n",
    "            ys.append(-i**2)\n",
    "    return ys\n",
    "\n",
    "y = create_y(n)\n",
    "print()\n",
    "print(y)\n",
    "print()\n",
    "\n",
    "for x in xs:\n",
    "    print(f(x,y))\n"
   ]
  },
  {
   "cell_type": "code",
   "execution_count": 57,
   "metadata": {},
   "outputs": [
    {
     "name": "stdout",
     "output_type": "stream",
     "text": [
      "1\n",
      "6\n",
      "20\n",
      "30\n",
      "-5\n",
      "-146\n"
     ]
    }
   ],
   "source": []
  },
  {
   "cell_type": "code",
   "execution_count": null,
   "metadata": {},
   "outputs": [],
   "source": []
  }
 ],
 "metadata": {
  "kernelspec": {
   "display_name": "Python 3",
   "language": "python",
   "name": "python3"
  },
  "language_info": {
   "codemirror_mode": {
    "name": "ipython",
    "version": 3
   },
   "file_extension": ".py",
   "mimetype": "text/x-python",
   "name": "python",
   "nbconvert_exporter": "python",
   "pygments_lexer": "ipython3",
   "version": "3.9.5"
  }
 },
 "nbformat": 4,
 "nbformat_minor": 2
}
